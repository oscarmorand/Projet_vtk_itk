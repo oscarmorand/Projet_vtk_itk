{
 "cells": [
  {
   "cell_type": "code",
   "execution_count": 1,
   "metadata": {},
   "outputs": [
    {
     "name": "stdout",
     "output_type": "stream",
     "text": [
      "5.4.0\n"
     ]
    },
    {
     "name": "stderr",
     "output_type": "stream",
     "text": [
      "/home/uberblitzsche/.local/lib/python3.10/site-packages/matplotlib/projections/__init__.py:63: UserWarning: Unable to import Axes3D. This may be due to multiple versions of Matplotlib being installed (e.g. as a system package and as a pip package). As a result, the 3D projection is not available.\n",
      "  warnings.warn(\"Unable to import Axes3D. This may be due to multiple versions of \"\n"
     ]
    }
   ],
   "source": [
    "import matplotlib.pyplot as plt\n",
    "from ipywidgets import interact, IntSlider\n",
    "import numpy as np\n",
    "\n",
    "import itk\n",
    "print(itk.__version__)"
   ]
  },
  {
   "cell_type": "code",
   "execution_count": 2,
   "metadata": {},
   "outputs": [],
   "source": [
    "# Paths\n",
    "Data = 'Data/'\n",
    "scan1_name = 'case6_gre1'\n",
    "scan2_name = 'case6_gre2'"
   ]
  },
  {
   "cell_type": "code",
   "execution_count": 3,
   "metadata": {
    "scrolled": false
   },
   "outputs": [
    {
     "name": "stdout",
     "output_type": "stream",
     "text": [
      "0.0\n",
      "1734.0\n",
      "0.0\n",
      "1374.0\n"
     ]
    },
    {
     "data": {
      "text/plain": [
       "(176, 256, 256)"
      ]
     },
     "execution_count": 3,
     "metadata": {},
     "output_type": "execute_result"
    }
   ],
   "source": [
    "def getFrom(path):\n",
    "    scan = itk.imread(path)\n",
    "    caster = itk.CastImageFilter[scan, itk.Image[itk.F, 3]].New()\n",
    "    caster.SetInput(scan)\n",
    "    caster.Update()\n",
    "    scan = caster.GetOutput()\n",
    "    \n",
    "    img = itk.GetArrayFromImage(scan)\n",
    "    min_val = img.min()\n",
    "    max_val = img.max()\n",
    "    \n",
    "    print(min_val)\n",
    "    print(max_val)\n",
    "    \n",
    "    img = 255 * (img - min_val) / (max_val - min_val)\n",
    "    \n",
    "    scan = itk.GetImageFromArray(img)\n",
    "    \n",
    "    return scan\n",
    "\n",
    "scan1 = getFrom(Data + scan1_name + \".nrrd\")\n",
    "scan2 = getFrom(Data + scan2_name + \".nrrd\")\n",
    "scan1.shape"
   ]
  },
  {
   "cell_type": "code",
   "execution_count": 4,
   "metadata": {},
   "outputs": [
    {
     "name": "stdout",
     "output_type": "stream",
     "text": [
      "scan1 - true 1 : 16.176469802856445\n",
      "scan1 - true 2 : 108.38235473632812\n",
      "scan1 - true 3 : 41.911766052246094\n",
      "scan1 - false : 22.058822631835938\n",
      "\n",
      "scan2 - true 1 : 78.68995666503906\n",
      "scan2 - true 2 : 48.438865661621094\n",
      "scan2 - true 3 : 53.264190673828125\n",
      "scan2 - false : 10.207423210144043\n"
     ]
    }
   ],
   "source": [
    "# Scan 1 points\n",
    "true_point_1_1 = [49, 82, 69]\n",
    "true_point_1_2 = [79, 124, 63]\n",
    "true_point_1_3 = [82, 98, 77]\n",
    "false_point_1 = [49, 82, 90]\n",
    "\n",
    "print(\"scan1 - true 1 :\", scan1.GetPixel((49, 82, 69)))\n",
    "print(\"scan1 - true 2 :\", scan1.GetPixel((79, 124, 63)))\n",
    "print(\"scan1 - true 3 :\", scan1.GetPixel((82, 98, 77)))\n",
    "print(\"scan1 - false :\", scan1.GetPixel((49, 82, 90)))\n",
    "\n",
    "print()\n",
    "\n",
    "# Scan 2 points\n",
    "true_point_2_1 = [49, 82, 82]\n",
    "true_point_2_2 = [79, 124, 80]\n",
    "true_point_2_3 = [82, 100, 94]\n",
    "false_point_2 = [49, 82, 103]\n",
    "\n",
    "print(\"scan2 - true 1 :\", scan2.GetPixel((49, 82, 82)))\n",
    "print(\"scan2 - true 2 :\", scan2.GetPixel((79, 124, 80)))\n",
    "print(\"scan2 - true 3 :\", scan2.GetPixel((82, 100, 94)))\n",
    "print(\"scan2 - false :\", scan2.GetPixel((49, 82, 103)))"
   ]
  },
  {
   "cell_type": "code",
   "execution_count": 5,
   "metadata": {},
   "outputs": [
    {
     "name": "stderr",
     "output_type": "stream",
     "text": [
      "Widget Javascript not detected.  It may not be installed or enabled properly. Reconnecting the current kernel may help.\n"
     ]
    },
    {
     "data": {
      "application/vnd.jupyter.widget-view+json": {
       "model_id": "9a514385285c4a4fbc68b24e3955fabc"
      }
     },
     "metadata": {},
     "output_type": "display_data"
    },
    {
     "data": {
      "text/plain": [
       "<function __main__.plot_slices(slice_index)>"
      ]
     },
     "execution_count": 5,
     "metadata": {},
     "output_type": "execute_result"
    }
   ],
   "source": [
    "def plot_slices(slice_index):\n",
    "    plt.figure(figsize=(10, 5))\n",
    "    \n",
    "    plt.subplot(1, 2, 1)\n",
    "    plt.title(\"Scan 1 - Sagittal\")\n",
    "    plt.scatter(true_point_1_1[1], true_point_1_1[2], color='yellow', s=1)\n",
    "    plt.scatter(true_point_1_2[1], true_point_1_2[2], color='yellow', s=1)\n",
    "    plt.scatter(true_point_1_3[1], true_point_1_3[2], color='yellow', s=1)\n",
    "    plt.scatter(false_point_1[1], false_point_1[2], color='red', s=1)\n",
    "    plt.imshow(scan1[slice_index, :, :], cmap='gray')\n",
    "    \n",
    "    plt.subplot(1, 2, 2)\n",
    "    plt.title(\"Scan 2 - Sagittal\")\n",
    "    plt.scatter(true_point_2_1[1], true_point_2_1[2], color='yellow', s=1)\n",
    "    plt.scatter(true_point_2_2[1], true_point_2_2[2], color='yellow', s=1)\n",
    "    plt.scatter(true_point_2_3[1], true_point_2_3[2], color='yellow', s=1)\n",
    "    plt.scatter(false_point_2[1], false_point_2[2], color='red', s=1)\n",
    "    plt.imshow(scan2[slice_index, :, :], cmap='gray')\n",
    "    \n",
    "    plt.show()\n",
    "\n",
    "# Define the slider\n",
    "slice_slider = IntSlider(min=0, max=scan1.shape[0]-1, step=1, value=82)\n",
    "\n",
    "# Use the interact function to update the plot with the slider\n",
    "interact(plot_slices, slice_index=slice_slider)"
   ]
  },
  {
   "cell_type": "code",
   "execution_count": 6,
   "metadata": {},
   "outputs": [],
   "source": [
    "def segmentation(scan, seedZ, seedX, seedY, lower):\n",
    "    smoother = itk.GradientAnisotropicDiffusionImageFilter.New(Input=scan, NumberOfIterations=20, TimeStep=0.04, ConductanceParameter=3)\n",
    "    smoother.Update()\n",
    "    \n",
    "    connected_threshold = itk.ConnectedThresholdImageFilter.New(smoother.GetOutput())\n",
    "    \n",
    "    connected_threshold.SetReplaceValue(255)\n",
    "    connected_threshold.SetLower(lower)\n",
    "    connected_threshold.SetUpper(255)\n",
    "    connected_threshold.SetSeed((seedX, seedY, seedZ))\n",
    "    connected_threshold.Update()\n",
    "    segmented_image = connected_threshold.GetOutput()\n",
    "\n",
    "    return segmented_image"
   ]
  },
  {
   "cell_type": "markdown",
   "metadata": {},
   "source": [
    "# Segmentation scan 1"
   ]
  },
  {
   "cell_type": "markdown",
   "metadata": {},
   "source": [
    "## Tumor 1"
   ]
  },
  {
   "cell_type": "code",
   "execution_count": 7,
   "metadata": {},
   "outputs": [
    {
     "data": {
      "application/vnd.jupyter.widget-view+json": {
       "model_id": "7c826ae5f3574bbfa4a0f53eab7815d9"
      }
     },
     "metadata": {},
     "output_type": "display_data"
    },
    {
     "data": {
      "text/plain": [
       "<function __main__.plot_slices(slice_index)>"
      ]
     },
     "execution_count": 7,
     "metadata": {},
     "output_type": "execute_result"
    }
   ],
   "source": [
    "tumor_1_1 = segmentation(scan1, 49, 82, 69, 70)\n",
    "\n",
    "def plot_slices(slice_index):\n",
    "    plt.figure(figsize=(10, 5))\n",
    "    \n",
    "    plt.subplot(1, 2, 1)\n",
    "    plt.title(\"Scan 1 - Sagittal\")\n",
    "    plt.imshow(tumor_1_1[slice_index, :, :], cmap='gray')\n",
    "    \n",
    "    plt.subplot(1, 2, 2)\n",
    "    plt.title(\"Scan 2 - Sagittal\")\n",
    "    plt.imshow(scan1[slice_index, :, :], cmap='gray')\n",
    "    \n",
    "    plt.show()\n",
    "\n",
    "# Define the slider\n",
    "slice_slider = IntSlider(min=35, max=65, step=1, value=49)\n",
    "\n",
    "# Use the interact function to update the plot with the slider\n",
    "interact(plot_slices, slice_index=slice_slider)"
   ]
  },
  {
   "cell_type": "markdown",
   "metadata": {},
   "source": [
    "## Tumor 2"
   ]
  },
  {
   "cell_type": "code",
   "execution_count": 8,
   "metadata": {},
   "outputs": [
    {
     "data": {
      "application/vnd.jupyter.widget-view+json": {
       "model_id": "606fb0d9831445249c7022b78bab5a3a"
      }
     },
     "metadata": {},
     "output_type": "display_data"
    },
    {
     "data": {
      "text/plain": [
       "<function __main__.plot_slices(slice_index)>"
      ]
     },
     "execution_count": 8,
     "metadata": {},
     "output_type": "execute_result"
    }
   ],
   "source": [
    "tumor_1_2 = segmentation(scan1, 79, 124, 63, 70)\n",
    "\n",
    "def plot_slices(slice_index):\n",
    "    plt.figure(figsize=(10, 5))\n",
    "    \n",
    "    plt.subplot(1, 2, 1)\n",
    "    plt.title(\"Scan 1 - Sagittal\")\n",
    "    plt.imshow(tumor_1_2[slice_index, :, :], cmap='gray')\n",
    "    \n",
    "    plt.subplot(1, 2, 2)\n",
    "    plt.title(\"Scan 2 - Sagittal\")\n",
    "    plt.imshow(scan1[slice_index, :, :], cmap='gray')\n",
    "    \n",
    "    plt.show()\n",
    "\n",
    "# Define the slider\n",
    "slice_slider = IntSlider(min=70, max=95, step=1, value=49)\n",
    "\n",
    "# Use the interact function to update the plot with the slider\n",
    "interact(plot_slices, slice_index=slice_slider)"
   ]
  },
  {
   "cell_type": "markdown",
   "metadata": {},
   "source": [
    "## Tumor 3"
   ]
  },
  {
   "cell_type": "code",
   "execution_count": 9,
   "metadata": {},
   "outputs": [
    {
     "data": {
      "application/vnd.jupyter.widget-view+json": {
       "model_id": "e17f1f3cd8a94742842aca957efb391b"
      }
     },
     "metadata": {},
     "output_type": "display_data"
    },
    {
     "data": {
      "text/plain": [
       "<function __main__.plot_slices(slice_index)>"
      ]
     },
     "execution_count": 9,
     "metadata": {},
     "output_type": "execute_result"
    }
   ],
   "source": [
    "tumor_1_3 = segmentation(scan1, 82, 98, 77, 70)\n",
    "\n",
    "def plot_slices(slice_index):\n",
    "    plt.figure(figsize=(10, 5))\n",
    "    \n",
    "    plt.subplot(1, 2, 1)\n",
    "    plt.title(\"Scan 1 - Sagittal\")\n",
    "    plt.imshow(tumor_1_3[slice_index, :, :], cmap='gray')\n",
    "    \n",
    "    plt.subplot(1, 2, 2)\n",
    "    plt.title(\"Scan 2 - Sagittal\")\n",
    "    plt.imshow(scan1[slice_index, :, :], cmap='gray')\n",
    "    \n",
    "    plt.show()\n",
    "\n",
    "# Define the slider\n",
    "slice_slider = IntSlider(min=75, max=90, step=1, value=49)\n",
    "\n",
    "# Use the interact function to update the plot with the slider\n",
    "interact(plot_slices, slice_index=slice_slider)"
   ]
  },
  {
   "cell_type": "markdown",
   "metadata": {},
   "source": [
    "## Fusion"
   ]
  },
  {
   "cell_type": "code",
   "execution_count": 10,
   "metadata": {},
   "outputs": [
    {
     "data": {
      "application/vnd.jupyter.widget-view+json": {
       "model_id": "3f9a646545f24cfd857dd2f3d6ca9fd7"
      }
     },
     "metadata": {},
     "output_type": "display_data"
    },
    {
     "data": {
      "text/plain": [
       "<function __main__.plot_slices(slice_index)>"
      ]
     },
     "execution_count": 10,
     "metadata": {},
     "output_type": "execute_result"
    }
   ],
   "source": [
    "tumors = np.maximum(np.maximum(tumor_1_1, tumor_1_2), tumor_1_3)\n",
    "\n",
    "def plot_slices(slice_index):\n",
    "    plt.figure(figsize=(10, 5))\n",
    "    \n",
    "    plt.subplot(1, 2, 1)\n",
    "    plt.title(\"Scan 1 - Sagittal\")\n",
    "    plt.imshow(tumors[slice_index, :, :], cmap='gray')\n",
    "    \n",
    "    plt.subplot(1, 2, 2)\n",
    "    plt.title(\"Scan 2 - Sagittal\")\n",
    "    plt.imshow(scan1[slice_index, :, :], cmap='gray')\n",
    "    \n",
    "    plt.show()\n",
    "\n",
    "# Define the slider\n",
    "slice_slider = IntSlider(min=0, max=scan1.shape[0]-1, step=1, value=49)\n",
    "\n",
    "# Use the interact function to update the plot with the slider\n",
    "interact(plot_slices, slice_index=slice_slider)"
   ]
  },
  {
   "cell_type": "code",
   "execution_count": 20,
   "metadata": {},
   "outputs": [
    {
     "data": {
      "application/vnd.jupyter.widget-view+json": {
       "model_id": "572f94cb67514101807dadd59f726b15"
      }
     },
     "metadata": {},
     "output_type": "display_data"
    },
    {
     "data": {
      "text/plain": [
       "<function __main__.plot_slices(slice_index)>"
      ]
     },
     "execution_count": 20,
     "metadata": {},
     "output_type": "execute_result"
    }
   ],
   "source": [
    "color_head = np.empty((scan1.shape[0], scan1.shape[1], scan1.shape[2], 3))\n",
    "\n",
    "color_head[:, :, :, 0] = scan1[:, :, :] / 255\n",
    "color_head[:, :, :, 1] = scan1[:, :, :] / 255\n",
    "color_head[:, :, :, 2] = scan1[:, :, :] / 255\n",
    "\n",
    "color_head[:, :, :, 0][tumors == 255] = 1\n",
    "\n",
    "def plot_slices(slice_index):\n",
    "    plt.figure(figsize=(10, 5))\n",
    "    \n",
    "    plt.title(\"Scan 2 - Sagittal\")\n",
    "    plt.imshow(color_head[slice_index, :, :, :])\n",
    "    \n",
    "    plt.show()\n",
    "\n",
    "# Define the slider\n",
    "slice_slider = IntSlider(min=0, max=scan1.shape[0]-1, step=1, value=49)\n",
    "\n",
    "# Use the interact function to update the plot with the slider\n",
    "interact(plot_slices, slice_index=slice_slider)"
   ]
  },
  {
   "cell_type": "code",
   "execution_count": null,
   "metadata": {},
   "outputs": [],
   "source": []
  }
 ],
 "metadata": {
  "kernelspec": {
   "display_name": "Python 3 (ipykernel)",
   "language": "python",
   "name": "python3"
  },
  "language_info": {
   "codemirror_mode": {
    "name": "ipython",
    "version": 3
   },
   "file_extension": ".py",
   "mimetype": "text/x-python",
   "name": "python",
   "nbconvert_exporter": "python",
   "pygments_lexer": "ipython3",
   "version": "3.10.12"
  }
 },
 "nbformat": 4,
 "nbformat_minor": 2
}
