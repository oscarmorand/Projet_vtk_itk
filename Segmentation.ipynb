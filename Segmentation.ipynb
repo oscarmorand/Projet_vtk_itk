{
 "cells": [
  {
   "cell_type": "code",
   "execution_count": 163,
   "metadata": {},
   "outputs": [
    {
     "name": "stdout",
     "output_type": "stream",
     "text": [
      "5.4.0\n"
     ]
    }
   ],
   "source": [
    "import itk\n",
    "print(itk.__version__)"
   ]
  },
  {
   "cell_type": "code",
   "execution_count": 164,
   "metadata": {},
   "outputs": [],
   "source": [
    "# Paths\n",
    "Data = 'Data/'\n",
    "\n",
    "scan1_name = 'case6_gre1'\n",
    "scan2_name = 'case6_gre2'"
   ]
  },
  {
   "cell_type": "code",
   "execution_count": 165,
   "metadata": {},
   "outputs": [
    {
     "name": "stdout",
     "output_type": "stream",
     "text": [
      "(176, 256, 256) (176, 256, 256)\n"
     ]
    }
   ],
   "source": [
    "def getFrom(path):\n",
    "    scan = itk.imread(path)\n",
    "    caster = itk.CastImageFilter[scan, itk.Image[itk.F, 3]].New()\n",
    "    caster.SetInput(scan)\n",
    "    caster.Update()\n",
    "    scan = caster.GetOutput()\n",
    "    \n",
    "    img = itk.GetArrayFromImage(scan)\n",
    "    min_val = img.min()\n",
    "    max_val = img.max()\n",
    "    \n",
    "    img = 255 * (img - min_val) / (max_val - min_val)\n",
    "    \n",
    "    return itk.GetImageFromArray(img), img\n",
    "\n",
    "scan1, img1 = getFrom(Data + scan1_name + \".nrrd\")\n",
    "scan2, img2 = getFrom(Data + scan2_name + \".nrrd\")\n",
    "\n",
    "print(img1.shape, img2.shape)"
   ]
  },
  {
   "cell_type": "code",
   "execution_count": 166,
   "metadata": {},
   "outputs": [
    {
     "name": "stdout",
     "output_type": "stream",
     "text": [
      "scan1 - true : 34.85294\n",
      "scan1 - false : 48.97059\n",
      "\n",
      "scan2 - true : 136.77948\n",
      "scan2 - false : 53.26419\n"
     ]
    }
   ],
   "source": [
    "# Scan 1 points\n",
    "true_point_1 = [49, 82, 69]\n",
    "false_point_1 = [49, 82, 90]\n",
    "\n",
    "print(\"scan1 - true :\", scan1[true_point_1[0], true_point_1[1], true_point_1[2]])\n",
    "print(\"scan1 - false :\", scan1[false_point_1[0], false_point_1[1], false_point_1[2]])\n",
    "\n",
    "print()\n",
    "\n",
    "# Scan 2 points\n",
    "true_point_2 = [49, 82, 82]\n",
    "false_point_2 = [49, 82, 103]\n",
    "\n",
    "print(\"scan2 - true :\", scan2[true_point_2[0], true_point_2[1], true_point_2[2]])\n",
    "print(\"scan2 - false :\", scan2[false_point_2[0], false_point_2[1], false_point_2[2]])"
   ]
  },
  {
   "cell_type": "code",
   "execution_count": 167,
   "metadata": {},
   "outputs": [
    {
     "name": "stderr",
     "output_type": "stream",
     "text": [
      "Widget Javascript not detected.  It may not be installed or enabled properly. Reconnecting the current kernel may help.\n"
     ]
    },
    {
     "data": {
      "application/vnd.jupyter.widget-view+json": {
       "model_id": "c5025fabf4f740689935f4a10439aa8c"
      }
     },
     "metadata": {},
     "output_type": "display_data"
    },
    {
     "data": {
      "text/plain": [
       "<function __main__.plot_slices(slice_index)>"
      ]
     },
     "execution_count": 167,
     "metadata": {},
     "output_type": "execute_result"
    }
   ],
   "source": [
    "import matplotlib.pyplot as plt\n",
    "from ipywidgets import interact, IntSlider\n",
    "\n",
    "def plot_slices(slice_index):\n",
    "    plt.figure(figsize=(10, 5))\n",
    "    \n",
    "    plt.subplot(1, 2, 1)\n",
    "    plt.title(\"Scan 1 - Sagittal\")\n",
    "    plt.scatter(true_point_1[1], true_point_1[2], color='yellow', s=1)\n",
    "    plt.scatter(false_point_1[1], false_point_1[2], color='red', s=1)\n",
    "    plt.imshow(img1[slice_index, :, :], cmap='gray')\n",
    "    \n",
    "    plt.subplot(1, 2, 2)\n",
    "    plt.title(\"Scan 2 - Sagittal\")\n",
    "    plt.scatter(true_point_2[1], true_point_2[2], color='yellow', s=1)\n",
    "    plt.scatter(false_point_2[1], false_point_2[2], color='red', s=1)\n",
    "    plt.imshow(img2[slice_index, :, :], cmap='gray')\n",
    "    \n",
    "    plt.show()\n",
    "\n",
    "# Define the slider\n",
    "slice_slider = IntSlider(min=0, max=img1.shape[0]-1, step=1, value=49)\n",
    "\n",
    "# Use the interact function to update the plot with the slider\n",
    "interact(plot_slices, slice_index=slice_slider)"
   ]
  },
  {
   "cell_type": "code",
   "execution_count": 171,
   "metadata": {},
   "outputs": [],
   "source": [
    "def segmentation(scan, seedX=82, seedY=69, seedZ=49, lower=20, upper=200):\n",
    "    #smoother = itk.GradientAnisotropicDiffusionImageFilter.New(Input=scan, NumberOfIterations=20, TimeStep=0.04, ConductanceParameter=3)\n",
    "    #smoother.Update()\n",
    "    \n",
    "    connected_threshold = itk.ConnectedThresholdImageFilter.New(scan)#smoother.GetOutput())\n",
    "    \n",
    "    connected_threshold.SetReplaceValue(255)\n",
    "    connected_threshold.SetLower(lower)\n",
    "    connected_threshold.SetUpper(upper)\n",
    "    connected_threshold.SetSeed((seedX, seedY, seedZ))\n",
    "    connected_threshold.Update()\n",
    "    segmented_image = connected_threshold.GetOutput()\n",
    "\n",
    "    return segmented_image"
   ]
  },
  {
   "cell_type": "code",
   "execution_count": 172,
   "metadata": {},
   "outputs": [],
   "source": [
    "segmented_image1 = segmentation(scan1)\n",
    "segmented_image2 = segmentation(scan2)"
   ]
  },
  {
   "cell_type": "code",
   "execution_count": 173,
   "metadata": {},
   "outputs": [
    {
     "name": "stderr",
     "output_type": "stream",
     "text": [
      "Widget Javascript not detected.  It may not be installed or enabled properly. Reconnecting the current kernel may help.\n"
     ]
    },
    {
     "data": {
      "application/vnd.jupyter.widget-view+json": {
       "model_id": "7097abf7fadc422197beebd36bb8cdb8"
      }
     },
     "metadata": {},
     "output_type": "display_data"
    },
    {
     "data": {
      "text/plain": [
       "<function __main__.plot_slices(slice_index)>"
      ]
     },
     "execution_count": 173,
     "metadata": {},
     "output_type": "execute_result"
    }
   ],
   "source": [
    "import matplotlib.pyplot as plt\n",
    "from ipywidgets import interact, IntSlider\n",
    "\n",
    "def plot_slices(slice_index):\n",
    "    plt.figure(figsize=(10, 5))\n",
    "    \n",
    "    plt.subplot(1, 2, 1)\n",
    "    plt.title(\"Scan 1 - Sagittal\")\n",
    "    plt.imshow(segmented_image1[slice_index, :, :], cmap='gray')\n",
    "    \n",
    "    plt.subplot(1, 2, 2)\n",
    "    plt.title(\"Scan 2 - Sagittal\")\n",
    "    plt.imshow(segmented_image2[slice_index, :, :], cmap='gray')\n",
    "    \n",
    "    plt.show()\n",
    "\n",
    "# Define the slider\n",
    "slice_slider = IntSlider(min=0, max=segmented_image1.shape[0]-1, step=1, value=49)\n",
    "\n",
    "# Use the interact function to update the plot with the slider\n",
    "interact(plot_slices, slice_index=slice_slider)"
   ]
  },
  {
   "cell_type": "code",
   "execution_count": null,
   "metadata": {},
   "outputs": [],
   "source": []
  }
 ],
 "metadata": {
  "kernelspec": {
   "display_name": "Python 3 (ipykernel)",
   "language": "python",
   "name": "python3"
  },
  "language_info": {
   "codemirror_mode": {
    "name": "ipython",
    "version": 3
   },
   "file_extension": ".py",
   "mimetype": "text/x-python",
   "name": "python",
   "nbconvert_exporter": "python",
   "pygments_lexer": "ipython3",
   "version": "3.10.12"
  }
 },
 "nbformat": 4,
 "nbformat_minor": 2
}
