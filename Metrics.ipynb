{
 "cells": [
  {
   "cell_type": "code",
   "execution_count": 1,
   "metadata": {},
   "outputs": [],
   "source": [
    "import numpy as np"
   ]
  },
  {
   "cell_type": "code",
   "execution_count": 22,
   "metadata": {},
   "outputs": [],
   "source": [
    "def compute_tumor_volume_evolution(regions1, regions2):\n",
    "    areas1 = np.array([region.area for region in regions1])\n",
    "    areas2 = np.array([region.area for region in regions2])\n",
    "\n",
    "    area1 = areas1.sum()\n",
    "    area2 = areas2.sum()\n",
    "\n",
    "    return ((area2 - area1) / area1), area1, area2\n"
   ]
  },
  {
   "cell_type": "code",
   "execution_count": 23,
   "metadata": {},
   "outputs": [],
   "source": [
    "import skimage.measure\n",
    "\n",
    "'''\n",
    "def compute_centroids(mask):\n",
    "    regions = skimage.measure.regionprops(mask)\n",
    "    centroids = [region.centroid for region in regions]\n",
    "    return centroids\n",
    "'''\n",
    "\n",
    "def compute_centroids_evolution(regions1, regions2):\n",
    "    centroids1 = np.array([region.centroid for region in regions1])\n",
    "    centroids2 = np.array([region.centroid for region in regions2])\n",
    "\n",
    "    if len(centroids1) > len(centroids2):\n",
    "        print(\"Warning: a tumor has disappeared\")\n",
    "    elif len(centroids1) < len(centroids2):\n",
    "        print(\"Warning: a tumor has appeared\")\n",
    "    else:\n",
    "        print(\"No evolution in the number of tumors\")\n",
    "        min_dist = []\n",
    "        for centroid1 in centroids1:\n",
    "            distances = [((centroid1[0] - centroid2[0])**2 + (centroid1[1] - centroid2[1])**2)**0.5 for centroid2 in centroids2]\n",
    "            min_dist.append(distances.index(min(distances)))\n",
    "        return min_dist\n",
    "    return None "
   ]
  },
  {
   "cell_type": "code",
   "execution_count": 26,
   "metadata": {},
   "outputs": [],
   "source": [
    "import json\n",
    "\n",
    "def compute_tumors_evolution(mask1, mask2):\n",
    "    regions1 = skimage.measure.regionprops(mask1)\n",
    "    regions2 = skimage.measure.regionprops(mask2)\n",
    "\n",
    "    tumor_volume_evolution, volume1, volume2 = compute_tumor_volume_evolution(regions1, regions2)\n",
    "    centroids_evolution = compute_centroids_evolution(regions1, regions2)\n",
    "\n",
    "    with open('results.json', 'w', encoding='utf-8') as f:\n",
    "        json.dump({\"scan1_tumors_volume\": f\"{volume1} voxels\",\n",
    "                   \"scan2_tumors_volume\": f\"{volume2} voxels\",\n",
    "                   \"tumors_volume_evolution\": f\"{tumor_volume_evolution * 100:.2f} %\",\n",
    "                   \"centroids_evolution\": centroids_evolution}, f, ensure_ascii=False, indent=4)"
   ]
  },
  {
   "cell_type": "code",
   "execution_count": 27,
   "metadata": {},
   "outputs": [
    {
     "name": "stdout",
     "output_type": "stream",
     "text": [
      "No evolution in the number of tumors\n"
     ]
    }
   ],
   "source": [
    "mask1 = np.random.randint(0, 2, (100, 100, 100))\n",
    "mask2 = np.random.randint(0, 2, (100, 100, 100))\n",
    "\n",
    "compute_tumors_evolution(mask1, mask2)"
   ]
  },
  {
   "cell_type": "code",
   "execution_count": null,
   "metadata": {},
   "outputs": [],
   "source": []
  }
 ],
 "metadata": {
  "kernelspec": {
   "display_name": "base",
   "language": "python",
   "name": "python3"
  },
  "language_info": {
   "codemirror_mode": {
    "name": "ipython",
    "version": 3
   },
   "file_extension": ".py",
   "mimetype": "text/x-python",
   "name": "python",
   "nbconvert_exporter": "python",
   "pygments_lexer": "ipython3",
   "version": "3.9.7"
  }
 },
 "nbformat": 4,
 "nbformat_minor": 2
}
