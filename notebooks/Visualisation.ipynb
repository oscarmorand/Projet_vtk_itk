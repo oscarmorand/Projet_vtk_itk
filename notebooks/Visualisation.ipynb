{
 "cells": [
  {
   "cell_type": "code",
   "execution_count": null,
   "id": "a8efbcd8",
   "metadata": {
    "scrolled": true
   },
   "outputs": [],
   "source": [
    "import itk\n",
    "print(itk.__version__)"
   ]
  },
  {
   "cell_type": "code",
   "execution_count": null,
   "id": "5cc51bc1",
   "metadata": {
    "scrolled": false
   },
   "outputs": [],
   "source": [
    "import vtk\n",
    "print(vtk.__version__)"
   ]
  },
  {
   "cell_type": "code",
   "execution_count": 3,
   "id": "45098dc2",
   "metadata": {
    "scrolled": true
   },
   "outputs": [
    {
     "name": "stdout",
     "output_type": "stream",
     "text": [
      "1734.0\n",
      "1374.0\n"
     ]
    }
   ],
   "source": [
    "# Paths\n",
    "Data = '../Data/'\n",
    "scan1_name = 'case6_gre1'\n",
    "scan2_name = 'case6_gre2'\n",
    "\n",
    "def getFrom(path):\n",
    "    scan = itk.imread(path)\n",
    "    caster = itk.CastImageFilter[scan, itk.Image[itk.F, 3]].New()\n",
    "    caster.SetInput(scan)\n",
    "    caster.Update()\n",
    "    scan = caster.GetOutput()\n",
    "    \n",
    "    img = itk.GetArrayFromImage(scan)\n",
    "    min_val = img.min()\n",
    "    max_val = img.max()\n",
    "    \n",
    "    print(max_val)\n",
    "    \n",
    "    img = 255 * (img - min_val) / (max_val - min_val)\n",
    "    \n",
    "    scan = itk.GetImageFromArray(img)\n",
    "    \n",
    "    return scan\n",
    "\n",
    "scan1 = getFrom(Data + scan1_name + \".nrrd\")\n",
    "scan2 = getFrom(Data + scan2_name + \".nrrd\")"
   ]
  },
  {
   "cell_type": "code",
   "execution_count": 4,
   "id": "7e5468f3",
   "metadata": {},
   "outputs": [],
   "source": [
    "vtk_image1 = itk.vtk_image_from_image(scan1)\n",
    "vtk_image2 = itk.vtk_image_from_image(scan2)"
   ]
  },
  {
   "cell_type": "code",
   "execution_count": 5,
   "id": "27593bbe",
   "metadata": {},
   "outputs": [],
   "source": [
    "def create_false_tumor(base_image, pos: list[int], size: int):\n",
    "    # Create a new image\n",
    "    false_tumor = vtk.vtkImageData()\n",
    "    false_tumor.DeepCopy(base_image)\n",
    "\n",
    "    min_bound = pos - size // 2\n",
    "    max_bound = pos + size // 2\n",
    "    \n",
    "    # Get the image data\n",
    "    data = false_tumor.GetPointData().GetScalars()\n",
    "    \n",
    "    # Create a false tumor\n",
    "    for i in range(data.GetNumberOfTuples()):\n",
    "        if (min_bound < i % 256 < max_bound and min_bound < i // 256 % 256 < max_bound and min_bound < i // 256 // 256 % 256 < max_bound):\n",
    "            data.SetTuple1(i, 255)\n",
    "        else:\n",
    "            data.SetTuple1(i, 0)\n",
    "    \n",
    "    return false_tumor"
   ]
  },
  {
   "cell_type": "code",
   "execution_count": 6,
   "id": "9e4b14f2",
   "metadata": {},
   "outputs": [],
   "source": [
    "tumor_1 = create_false_tumor(vtk_image1, 128, 20)\n",
    "tumor_2 = create_false_tumor(vtk_image2, 128, 40)"
   ]
  },
  {
   "cell_type": "code",
   "execution_count": 7,
   "id": "3a05b2a7",
   "metadata": {},
   "outputs": [],
   "source": [
    "# Create merged image\n",
    "def merge_segmentation(segmentation1, segmentation2, scan1):\n",
    "    # Create a new image\n",
    "    merged_image = vtk.vtkImageData()\n",
    "    merged_image.DeepCopy(scan1)\n",
    "    \n",
    "    # Get the image data\n",
    "    seg_data1 = segmentation1.GetPointData().GetScalars()\n",
    "    seg_data2 = segmentation2.GetPointData().GetScalars()\n",
    "    data_merged = merged_image.GetPointData().GetScalars()\n",
    "    \n",
    "    # Merge the images\n",
    "    for i in range(seg_data1.GetNumberOfTuples()):\n",
    "        value1 = seg_data1.GetTuple1(i)\n",
    "        value2 = seg_data2.GetTuple1(i)\n",
    "        if (value1 == 255):\n",
    "            data_merged.SetTuple1(i, 255)\n",
    "        elif (value2 == 255):\n",
    "            data_merged.SetTuple1(i, 200)\n",
    "        else:\n",
    "            if (data_merged.GetTuple1(i) <= 20):\n",
    "                data_merged.SetTuple1(i, 0)\n",
    "            elif (20 < data_merged.GetTuple1(i) < 60):\n",
    "                data_merged.SetTuple1(i, 100)\n",
    "            else:\n",
    "                data_merged.SetTuple1(i, 150)\n",
    "    \n",
    "    return merged_image"
   ]
  },
  {
   "cell_type": "code",
   "execution_count": 8,
   "id": "c450ee05",
   "metadata": {},
   "outputs": [],
   "source": [
    "merge_image = merge_segmentation(tumor_1, tumor_2, vtk_image1)"
   ]
  },
  {
   "cell_type": "code",
   "execution_count": 9,
   "id": "19fc3ea4",
   "metadata": {},
   "outputs": [],
   "source": [
    "# Test vtk display\n",
    "def display_evolution(merged_segmentation):\n",
    "    # Create a rendering window and renderer\n",
    "    ren = vtk.vtkRenderer()\n",
    "    renWin = vtk.vtkRenderWindow()\n",
    "    renWin.AddRenderer(ren)\n",
    "\n",
    "    # Create a renderwindowinteractor\n",
    "    iren = vtk.vtkRenderWindowInteractor()\n",
    "    iren.SetRenderWindow(renWin)\n",
    "\n",
    "    # Create a volume\n",
    "    volumeMapper = vtk.vtkSmartVolumeMapper()\n",
    "    volumeMapper.SetInputData(merged_segmentation)\n",
    "    volume = vtk.vtkVolume()\n",
    "    volume.SetMapper(volumeMapper)\n",
    "\n",
    "    # Create transfer mapping scalar value to opacity\n",
    "    opacityTransferFunction = vtk.vtkPiecewiseFunction()\n",
    "    opacityTransferFunction.AddPoint(0, 0.0)\n",
    "    opacityTransferFunction.AddPoint(99, 0.0)\n",
    "    opacityTransferFunction.AddPoint(100, 0.01)\n",
    "    opacityTransferFunction.AddPoint(150, 0.01)\n",
    "    opacityTransferFunction.AddPoint(199, 0.01)\n",
    "    opacityTransferFunction.AddPoint(200, 0.1)\n",
    "    opacityTransferFunction.AddPoint(254, 0.1)\n",
    "    opacityTransferFunction.AddPoint(255, 0.5)\n",
    "\n",
    "    # Create transfer mapping scalar value to color\n",
    "    colorTransferFunction = vtk.vtkColorTransferFunction()\n",
    "    colorTransferFunction.AddRGBPoint(0.0, 0.0, 0.0, 0.0)\n",
    "    colorTransferFunction.AddRGBPoint(99.0, 0.0, 0.0, 0.0)\n",
    "    colorTransferFunction.AddRGBPoint(100.0, 1., 0.5, 0.5)\n",
    "    colorTransferFunction.AddRGBPoint(150.0, 0.95, 0.85, 0.75)\n",
    "    colorTransferFunction.AddRGBPoint(192.0, 1.0, 0.0, 0.0)\n",
    "    colorTransferFunction.AddRGBPoint(255.0, 0.0, 0.0, 1.0)\n",
    "\n",
    "    # The property describes how the data will look\n",
    "    volumeProperty = vtk.vtkVolumeProperty()\n",
    "    volumeProperty.SetColor(colorTransferFunction)\n",
    "    volumeProperty.SetScalarOpacity(opacityTransferFunction)\n",
    "    volumeProperty.SetInterpolationTypeToLinear()\n",
    "    # volumeProperty.ShadeOn()\n",
    "\n",
    "    # The mapper / ray cast function know how to render the data\n",
    "    volumeMapper.SetBlendModeToComposite()\n",
    "    volume.SetProperty(volumeProperty)\n",
    "    ren.AddViewProp(volume)\n",
    "\n",
    "    # Set background color\n",
    "    ren.SetBackground(0.7, 0.7, 0.8)\n",
    "\n",
    "    # Set window size\n",
    "    renWin.SetSize(600, 600)\n",
    "\n",
    "    # Initialize the interactor and start the rendering loop\n",
    "    iren.Initialize()\n",
    "    renWin.Render()\n",
    "    iren.Start()\n",
    "\n",
    "    # Clean up\n",
    "    iren.GetRenderWindow().Finalize()\n",
    "    iren.TerminateApp()"
   ]
  },
  {
   "cell_type": "code",
   "execution_count": 10,
   "id": "1c846e90",
   "metadata": {},
   "outputs": [],
   "source": [
    "display_evolution(merge_image)"
   ]
  },
  {
   "cell_type": "code",
   "execution_count": null,
   "id": "0cf7a4a0",
   "metadata": {},
   "outputs": [],
   "source": []
  }
 ],
 "metadata": {
  "kernelspec": {
   "display_name": "Python 3 (ipykernel)",
   "language": "python",
   "name": "python3"
  },
  "language_info": {
   "codemirror_mode": {
    "name": "ipython",
    "version": 3
   },
   "file_extension": ".py",
   "mimetype": "text/x-python",
   "name": "python",
   "nbconvert_exporter": "python",
   "pygments_lexer": "ipython3",
   "version": "3.10.12"
  }
 },
 "nbformat": 4,
 "nbformat_minor": 5
}
