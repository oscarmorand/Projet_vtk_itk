{
 "cells": [
  {
   "cell_type": "code",
   "execution_count": 9,
   "id": "a8efbcd8",
   "metadata": {
    "scrolled": true
   },
   "outputs": [
    {
     "name": "stdout",
     "output_type": "stream",
     "text": [
      "5.4.0\n"
     ]
    }
   ],
   "source": [
    "import itk\n",
    "print(itk.__version__)"
   ]
  },
  {
   "cell_type": "code",
   "execution_count": 10,
   "id": "5cc51bc1",
   "metadata": {
    "scrolled": false
   },
   "outputs": [
    {
     "name": "stdout",
     "output_type": "stream",
     "text": [
      "9.3.0\n"
     ]
    }
   ],
   "source": [
    "import vtk\n",
    "print(vtk.__version__)"
   ]
  },
  {
   "cell_type": "code",
   "execution_count": 12,
   "id": "45098dc2",
   "metadata": {
    "scrolled": true
   },
   "outputs": [
    {
     "name": "stdout",
     "output_type": "stream",
     "text": [
      "1734.0\n",
      "1374.0\n"
     ]
    }
   ],
   "source": [
    "# Paths\n",
    "Data = '../Data/'\n",
    "scan1_name = 'case6_gre1'\n",
    "scan2_name = 'case6_gre2'\n",
    "\n",
    "def getFrom(path):\n",
    "    scan = itk.imread(path)\n",
    "    caster = itk.CastImageFilter[scan, itk.Image[itk.F, 3]].New()\n",
    "    caster.SetInput(scan)\n",
    "    caster.Update()\n",
    "    scan = caster.GetOutput()\n",
    "    \n",
    "    img = itk.GetArrayFromImage(scan)\n",
    "    min_val = img.min()\n",
    "    max_val = img.max()\n",
    "    \n",
    "    print(max_val)\n",
    "    \n",
    "    img = 255 * (img - min_val) / (max_val - min_val)\n",
    "    \n",
    "    scan = itk.GetImageFromArray(img)\n",
    "    \n",
    "    return scan\n",
    "\n",
    "scan1 = getFrom(Data + scan1_name + \".nrrd\")\n",
    "scan2 = getFrom(Data + scan2_name + \".nrrd\")"
   ]
  },
  {
   "cell_type": "code",
   "execution_count": 5,
   "id": "7e5468f3",
   "metadata": {},
   "outputs": [],
   "source": [
    "vtk_image1 = itk.vtk_image_from_image(scan1)"
   ]
  }
 ],
 "metadata": {
  "kernelspec": {
   "display_name": "Python 3 (ipykernel)",
   "language": "python",
   "name": "python3"
  },
  "language_info": {
   "codemirror_mode": {
    "name": "ipython",
    "version": 3
   },
   "file_extension": ".py",
   "mimetype": "text/x-python",
   "name": "python",
   "nbconvert_exporter": "python",
   "pygments_lexer": "ipython3",
   "version": "3.10.12"
  }
 },
 "nbformat": 4,
 "nbformat_minor": 5
}
