{
 "cells": [
  {
   "cell_type": "code",
   "execution_count": 1,
   "id": "ac7467b7",
   "metadata": {},
   "outputs": [],
   "source": [
    "scans_paths = [\"case6_gre1.nrrd\", \"case6_gre2.nrrd\"]\n",
    "\n",
    "def readData(path):\n",
    "    scans = []\n",
    "    for scan_path in scans_paths:\n",
    "        complete_path = path + scan_path\n",
    "        \n",
    "        scan = itk.imread(complete_path)\n",
    "\n",
    "        # Conversion\n",
    "        caster = itk.CastImageFilter[scan, itk.Image[itk.F, 3]].New()\n",
    "        caster.SetInput(scan)\n",
    "        caster.Update()\n",
    "\n",
    "        scan = caster.GetOutput()\n",
    "\n",
    "        img = itk.GetArrayFromImage(scan)\n",
    "        min_val = img.min()\n",
    "        max_val = img.max()\n",
    "\n",
    "        img = 255 * (img - min_val) / (max_val - min_val)\n",
    "\n",
    "        scans.append(itk.GetImageFromArray(img))\n",
    "\n",
    "    return scans"
   ]
  },
  {
   "cell_type": "code",
   "execution_count": 2,
   "id": "4475ae7f",
   "metadata": {},
   "outputs": [],
   "source": [
    "import itk\n",
    "\n",
    "def alignData(scan1, scan2, save=None, log=False):\n",
    "    dimension = scan1.GetImageDimension()\n",
    "    FixedImageType = type(scan1)\n",
    "    MovingImageType = type(scan2)\n",
    "\n",
    "    # Initialiser la transformation\n",
    "    TransformType = itk.TranslationTransform[itk.D, dimension]\n",
    "    initial_transform = TransformType.New()\n",
    "\n",
    "\n",
    "    # Initialiser la métrique\n",
    "    metric = itk.MeanSquaresImageToImageMetricv4[FixedImageType, MovingImageType].New()\n",
    "    fixed_interpolation = itk.LinearInterpolateImageFunction[FixedImageType, itk.D].New()\n",
    "    metric.SetFixedInterpolator(fixed_interpolation)\n",
    "    metric.SetFixedImage(scan1)\n",
    "    metric.SetMovingImage(scan2)\n",
    "\n",
    "\n",
    "    # Initialiser l'optimiseur\n",
    "    optimizer = itk.RegularStepGradientDescentOptimizerv4.New()\n",
    "\n",
    "    optimizer.SetLearningRate(1)\n",
    "    optimizer.SetMinimumStepLength(0.001)\n",
    "    optimizer.SetNumberOfIterations(400)\n",
    "\n",
    "\n",
    "    # Configurer le recalage\n",
    "    RegistrationType = itk.ImageRegistrationMethodv4[FixedImageType, MovingImageType]\n",
    "    registration = RegistrationType.New()\n",
    "\n",
    "    registration.SetFixedImage(scan1)\n",
    "    registration.SetMovingImage(scan2)\n",
    "    registration.SetMetric(metric)\n",
    "    registration.SetOptimizer(optimizer)\n",
    "    registration.SetInitialTransform(initial_transform)\n",
    "\n",
    "\n",
    "    # Calculer la valeur de la métrique avant le recalage\n",
    "    metric.Initialize()\n",
    "    if log:\n",
    "        initial_metric_value = metric.GetValue()\n",
    "        print(f\"Metric value before transformation: {initial_metric_value}\")\n",
    "\n",
    "    # Effectuer le recalage\n",
    "    registration.Update()\n",
    "\n",
    "    # Appliquer la transformation\n",
    "    resampler = itk.ResampleImageFilter.New(\n",
    "        Input=scan2,\n",
    "        Transform=registration.GetTransform(),\n",
    "        UseReferenceImage=True,\n",
    "        ReferenceImage=scan1\n",
    "    )\n",
    "    aligned_image = resampler.GetOutput()\n",
    "\n",
    "    if log:\n",
    "        # Calculer la valeur de la métrique après le recalage\n",
    "        final_metric_value = metric.GetValue()\n",
    "        print(f\"Metric value after transformation: {final_metric_value}\")\n",
    "\n",
    "    # Sauvegarder l'image recalée\n",
    "    if save is not None:\n",
    "        itk.imwrite(aligned_image, save)\n",
    "\n",
    "    return aligned_image"
   ]
  },
  {
   "cell_type": "code",
   "execution_count": 3,
   "id": "81568642",
   "metadata": {},
   "outputs": [],
   "source": [
    "import itk\n",
    "import numpy as np\n",
    "\n",
    "tumor_points = [(82, 69, 49), (124, 63, 79), (98, 77, 82)]\n",
    "\n",
    "def segmentScan(scan, seed):\n",
    "    smoother = itk.GradientAnisotropicDiffusionImageFilter.New(Input=scan, NumberOfIterations=20, TimeStep=0.04, ConductanceParameter=3)\n",
    "    smoother.Update()\n",
    "    \n",
    "    connected_threshold = itk.ConnectedThresholdImageFilter.New(smoother.GetOutput())\n",
    "\n",
    "    connected_threshold.SetReplaceValue(255)\n",
    "    connected_threshold.SetLower(70)\n",
    "    connected_threshold.SetUpper(255)\n",
    "    connected_threshold.SetSeed(seed)\n",
    "    connected_threshold.Update()\n",
    "    segmented_image = connected_threshold.GetOutput()\n",
    "\n",
    "    return segmented_image\n",
    "\n",
    "def segmentData(scan1, scan2):\n",
    "    scans = [scan1, scan2]\n",
    "    segmentations = []\n",
    "    for scan in scans:\n",
    "        segmentation = np.zeros(scan.shape)\n",
    "        for tumor_point in tumor_points:\n",
    "            segmentation = np.maximum(segmentation, segmentScan(scan, tumor_point))\n",
    "        segmentations.append(segmentation)\n",
    "\n",
    "    return segmentations"
   ]
  },
  {
   "cell_type": "code",
   "execution_count": 4,
   "id": "b82d3f09",
   "metadata": {},
   "outputs": [],
   "source": [
    "def analyseData(segmentation1, segmentation2):\n",
    "    print(\"todo\")"
   ]
  },
  {
   "cell_type": "code",
   "execution_count": 5,
   "id": "5b99f802",
   "metadata": {},
   "outputs": [],
   "source": [
    "def visualizeData(evolution):\n",
    "    print(\"todo\")"
   ]
  },
  {
   "cell_type": "code",
   "execution_count": 6,
   "id": "7d817558",
   "metadata": {},
   "outputs": [],
   "source": [
    "dataPath = \"../Data/\"\n",
    "scan1, scan2 = readData(dataPath)"
   ]
  },
  {
   "cell_type": "code",
   "execution_count": 7,
   "id": "95adeee3",
   "metadata": {},
   "outputs": [
    {
     "name": "stdout",
     "output_type": "stream",
     "text": [
      "(176, 256, 256)\n",
      "(0, 0, 0)\n"
     ]
    }
   ],
   "source": [
    "print(scan2.shape)\n",
    "scan2 = alignData(scan1, scan2)\n",
    "print(scan2.shape)"
   ]
  },
  {
   "cell_type": "code",
   "execution_count": 8,
   "id": "4fd131a7",
   "metadata": {},
   "outputs": [
    {
     "name": "stderr",
     "output_type": "stream",
     "text": [
      "Unable to import Axes3D. This may be due to multiple versions of Matplotlib being installed (e.g. as a system package and as a pip package). As a result, the 3D projection is not available.\n"
     ]
    },
    {
     "ename": "AttributeError",
     "evalue": "'NoneType' object has no attribute '__getitem__'",
     "output_type": "error",
     "traceback": [
      "\u001b[0;31m---------------------------------------------------------------------------\u001b[0m",
      "\u001b[0;31mAttributeError\u001b[0m                            Traceback (most recent call last)",
      "\u001b[0;32m/tmp/ipykernel_22499/2317879185.py\u001b[0m in \u001b[0;36m<module>\u001b[0;34m\u001b[0m\n\u001b[1;32m      9\u001b[0m     \u001b[0mplt\u001b[0m\u001b[0;34m.\u001b[0m\u001b[0mtitle\u001b[0m\u001b[0;34m(\u001b[0m\u001b[0;34m\"Scan 1 - Sagittal slice \"\u001b[0m \u001b[0;34m+\u001b[0m \u001b[0mstr\u001b[0m\u001b[0;34m(\u001b[0m\u001b[0mpoint\u001b[0m\u001b[0;34m[\u001b[0m\u001b[0;36m0\u001b[0m\u001b[0;34m]\u001b[0m\u001b[0;34m)\u001b[0m\u001b[0;34m)\u001b[0m\u001b[0;34m\u001b[0m\u001b[0;34m\u001b[0m\u001b[0m\n\u001b[1;32m     10\u001b[0m     \u001b[0mplt\u001b[0m\u001b[0;34m.\u001b[0m\u001b[0mscatter\u001b[0m\u001b[0;34m(\u001b[0m\u001b[0mpoint\u001b[0m\u001b[0;34m[\u001b[0m\u001b[0;36m1\u001b[0m\u001b[0;34m]\u001b[0m\u001b[0;34m,\u001b[0m \u001b[0mpoint\u001b[0m\u001b[0;34m[\u001b[0m\u001b[0;36m2\u001b[0m\u001b[0;34m]\u001b[0m\u001b[0;34m,\u001b[0m \u001b[0mcolor\u001b[0m\u001b[0;34m=\u001b[0m\u001b[0;34m'lime'\u001b[0m\u001b[0;34m,\u001b[0m \u001b[0ms\u001b[0m\u001b[0;34m=\u001b[0m\u001b[0;36m5\u001b[0m\u001b[0;34m)\u001b[0m\u001b[0;34m\u001b[0m\u001b[0;34m\u001b[0m\u001b[0m\n\u001b[0;32m---> 11\u001b[0;31m     \u001b[0mplt\u001b[0m\u001b[0;34m.\u001b[0m\u001b[0mimshow\u001b[0m\u001b[0;34m(\u001b[0m\u001b[0mscan2\u001b[0m\u001b[0;34m[\u001b[0m\u001b[0;34m:\u001b[0m\u001b[0;34m,\u001b[0m \u001b[0;34m:\u001b[0m\u001b[0;34m,\u001b[0m \u001b[0;34m:\u001b[0m\u001b[0;34m]\u001b[0m\u001b[0;34m,\u001b[0m \u001b[0mcmap\u001b[0m\u001b[0;34m=\u001b[0m\u001b[0;34m'gray'\u001b[0m\u001b[0;34m)\u001b[0m\u001b[0;34m\u001b[0m\u001b[0;34m\u001b[0m\u001b[0m\n\u001b[0m\u001b[1;32m     12\u001b[0m \u001b[0;34m\u001b[0m\u001b[0m\n\u001b[1;32m     13\u001b[0m \u001b[0mplt\u001b[0m\u001b[0;34m.\u001b[0m\u001b[0mshow\u001b[0m\u001b[0;34m(\u001b[0m\u001b[0;34m)\u001b[0m\u001b[0;34m\u001b[0m\u001b[0;34m\u001b[0m\u001b[0m\n",
      "\u001b[0;32m~/.local/lib/python3.10/site-packages/itk/itkImagePython.py\u001b[0m in \u001b[0;36m__getitem__\u001b[0;34m(self, key)\u001b[0m\n\u001b[1;32m  32672\u001b[0m                 \u001b[0;32mreturn\u001b[0m \u001b[0mself\u001b[0m\u001b[0;34m.\u001b[0m\u001b[0mGetMetaDataDictionary\u001b[0m\u001b[0;34m(\u001b[0m\u001b[0;34m)\u001b[0m\u001b[0;34m[\u001b[0m\u001b[0mkey\u001b[0m\u001b[0;34m]\u001b[0m\u001b[0;34m\u001b[0m\u001b[0;34m\u001b[0m\u001b[0m\n\u001b[1;32m  32673\u001b[0m         \u001b[0;32melse\u001b[0m\u001b[0;34m:\u001b[0m\u001b[0;34m\u001b[0m\u001b[0;34m\u001b[0m\u001b[0m\n\u001b[0;32m> 32674\u001b[0;31m             \u001b[0;32mreturn\u001b[0m \u001b[0mitk\u001b[0m\u001b[0;34m.\u001b[0m\u001b[0marray_view_from_image\u001b[0m\u001b[0;34m(\u001b[0m\u001b[0mself\u001b[0m\u001b[0;34m)\u001b[0m\u001b[0;34m.\u001b[0m\u001b[0m__getitem__\u001b[0m\u001b[0;34m(\u001b[0m\u001b[0mkey\u001b[0m\u001b[0;34m)\u001b[0m\u001b[0;34m\u001b[0m\u001b[0;34m\u001b[0m\u001b[0m\n\u001b[0m\u001b[1;32m  32675\u001b[0m \u001b[0;34m\u001b[0m\u001b[0m\n\u001b[1;32m  32676\u001b[0m     \u001b[0;32mdef\u001b[0m \u001b[0m__setitem__\u001b[0m\u001b[0;34m(\u001b[0m\u001b[0mself\u001b[0m\u001b[0;34m,\u001b[0m \u001b[0mkey\u001b[0m\u001b[0;34m,\u001b[0m \u001b[0mvalue\u001b[0m\u001b[0;34m)\u001b[0m\u001b[0;34m:\u001b[0m\u001b[0;34m\u001b[0m\u001b[0;34m\u001b[0m\u001b[0m\n",
      "\u001b[0;31mAttributeError\u001b[0m: 'NoneType' object has no attribute '__getitem__'"
     ]
    },
    {
     "data": {
      "image/png": "[encoded data removed]",
      "text/plain": [
       "<Figure size 1440x720 with 1 Axes>"
      ]
     },
     "metadata": {
      "needs_background": "light"
     },
     "output_type": "display_data"
    }
   ],
   "source": [
    "import matplotlib.pyplot as plt\n",
    "\n",
    "plt.figure(figsize=(20, 10))\n",
    "\n",
    "for i in range(3):\n",
    "    point = tumor_points[i]\n",
    "    plt.subplot(1, 3, i + 1)\n",
    "\n",
    "    plt.title(\"Scan 1 - Sagittal slice \" + str(point[0]))\n",
    "    plt.scatter(point[1], point[2], color='lime', s=5)\n",
    "    plt.imshow(scan2[:, :, :], cmap='gray')\n",
    "\n",
    "plt.show()"
   ]
  },
  {
   "cell_type": "code",
   "execution_count": null,
   "id": "9e080136",
   "metadata": {},
   "outputs": [],
   "source": [
    "segmentation1, segmentation2 = segmentData(scan1, scan2)"
   ]
  },
  {
   "cell_type": "code",
   "execution_count": null,
   "id": "2194cd2c",
   "metadata": {},
   "outputs": [],
   "source": [
    "evolution = analyseData(segmentation1, segmentation2)"
   ]
  },
  {
   "cell_type": "code",
   "execution_count": null,
   "id": "a793f245",
   "metadata": {
    "scrolled": true
   },
   "outputs": [],
   "source": [
    "visualizeData(evolution)"
   ]
  }
 ],
 "metadata": {
  "kernelspec": {
   "display_name": "Python 3 (ipykernel)",
   "language": "python",
   "name": "python3"
  },
  "language_info": {
   "codemirror_mode": {
    "name": "ipython",
    "version": 3
   },
   "file_extension": ".py",
   "mimetype": "text/x-python",
   "name": "python",
   "nbconvert_exporter": "python",
   "pygments_lexer": "ipython3",
   "version": "3.10.12"
  }
 },
 "nbformat": 4,
 "nbformat_minor": 5
}
